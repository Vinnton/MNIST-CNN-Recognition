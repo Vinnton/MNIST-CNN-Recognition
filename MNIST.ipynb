{
 "cells": [
  {
   "cell_type": "code",
   "execution_count": null,
   "metadata": {
    "colab": {
     "autoexec": {
      "startup": false,
      "wait_interval": 0
     },
     "base_uri": "https://localhost:8080/",
     "height": 105
    },
    "colab_type": "code",
    "executionInfo": {
     "elapsed": 11577,
     "status": "ok",
     "timestamp": 1523598994663,
     "user": {
      "displayName": "黯黯",
      "photoUrl": "https://lh3.googleusercontent.com/a/default-user=s128",
      "userId": "101565257455154257012"
     },
     "user_tz": -480
    },
    "id": "yzcOmCy4uGxa",
    "outputId": "51ecd3f4-db50-4776-b1db-267b1c38681a"
   },
   "outputs": [],
   "source": [
    "# !apt-get install -y -qq software-properties-common python-software-properties module-init-tools\n",
    "# !add-apt-repository -y ppa:alessandro-strada/ppa 2>&1 > /dev/null\n",
    "# !apt-get update -qq 2>&1 > /dev/null\n",
    "# !apt-get -y install -qq google-drive-ocamlfuse fuse\n",
    "# from google.colab import auth\n",
    "# auth.authenticate_user()\n",
    "# from oauth2client.client import GoogleCredentials\n",
    "# creds = GoogleCredentials.get_application_default()\n",
    "# import getpass\n",
    "# !google-drive-ocamlfuse -headless -id={creds.client_id} -secret={creds.client_secret} < /dev/null 2>&1 | grep URL\n",
    "# vcode = getpass.getpass()\n",
    "# !echo {vcode} | google-drive-ocamlfuse -headless -id={creds.client_id} -secret={creds.client_secret}"
   ]
  },
  {
   "cell_type": "code",
   "execution_count": null,
   "metadata": {
    "colab": {
     "autoexec": {
      "startup": false,
      "wait_interval": 0
     }
    },
    "colab_type": "code",
    "id": "jV7Y3PRtuPIQ"
   },
   "outputs": [],
   "source": [
    "# !mkdir -p drive\n",
    "# !google-drive-ocamlfuse drive  -o nonempty"
   ]
  },
  {
   "cell_type": "code",
   "execution_count": null,
   "metadata": {
    "colab": {
     "autoexec": {
      "startup": false,
      "wait_interval": 0
     }
    },
    "colab_type": "code",
    "id": "jBbHkeu-uUMT"
   },
   "outputs": [],
   "source": [
    "# #每次从这里开始执行\n",
    "# import os \n",
    "# os.chdir(\"/Users/vinnton/Downloads/MNIST\") #更改根目录\n"
   ]
  },
  {
   "cell_type": "code",
   "execution_count": 1,
   "metadata": {
    "colab": {
     "autoexec": {
      "startup": false,
      "wait_interval": 0
     }
    },
    "colab_type": "code",
    "id": "g16QR5-zusVZ",
    "scrolled": true
   },
   "outputs": [
    {
     "name": "stderr",
     "output_type": "stream",
     "text": [
      "/anaconda3/lib/python3.6/site-packages/h5py/__init__.py:36: FutureWarning: Conversion of the second argument of issubdtype from `float` to `np.floating` is deprecated. In future, it will be treated as `np.float64 == np.dtype(float).type`.\n",
      "  from ._conv import register_converters as _register_converters\n"
     ]
    }
   ],
   "source": [
    "import tensorflow as tf\n",
    "import numpy as np\n",
    "import matplotlib.pyplot as plt\n",
    "import struct\n",
    "import datetime\n",
    "import matplotlib.pyplot as plt"
   ]
  },
  {
   "cell_type": "code",
   "execution_count": 2,
   "metadata": {
    "colab": {
     "autoexec": {
      "startup": false,
      "wait_interval": 0
     }
    },
    "colab_type": "code",
    "id": "_bAhxJp0ECpG"
   },
   "outputs": [],
   "source": [
    "#下面是预处理"
   ]
  },
  {
   "cell_type": "code",
   "execution_count": 3,
   "metadata": {
    "colab": {
     "autoexec": {
      "startup": false,
      "wait_interval": 0
     }
    },
    "colab_type": "code",
    "id": "Nhwm8dIYuw5t"
   },
   "outputs": [],
   "source": [
    "def load_mnist(train_labels_path,train_images_path,test_labels_path,test_images_path):\n",
    "    with open(train_labels_path, 'rb') as lbpath:\n",
    "        magic, n = struct.unpack('>II',lbpath.read(8))\n",
    "        train_labels = np.fromfile(lbpath,dtype=np.uint8)\n",
    "    with open(train_images_path, 'rb') as imgpath:\n",
    "        magic, num, rows, cols = struct.unpack('>IIII',imgpath.read(16))\n",
    "        train_images = np.fromfile(imgpath,dtype=np.uint8).reshape(len(train_labels), 784)\n",
    "    with open(test_labels_path, 'rb') as lbpath:\n",
    "        magic, n = struct.unpack('>II',lbpath.read(8))\n",
    "        test_labels = np.fromfile(lbpath,dtype=np.uint8)\n",
    "    with open(test_images_path, 'rb') as imgpath:\n",
    "        magic, num, rows, cols = struct.unpack('>IIII',imgpath.read(16))\n",
    "        test_images = np.fromfile(imgpath,dtype=np.uint8).reshape(len(test_labels), 784)\n",
    "    return  train_images, train_labels,test_images,test_labels\n",
    "# >II 有两个部分:\n",
    "# >: 这是指大端(用来定义字节是如何存储的))可查看维基 字节顺序\n",
    "# I: 这是指一个无符号整数."
   ]
  },
  {
   "cell_type": "code",
   "execution_count": 4,
   "metadata": {
    "colab": {
     "autoexec": {
      "startup": false,
      "wait_interval": 0
     }
    },
    "colab_type": "code",
    "id": "JohBe2Q5uygx"
   },
   "outputs": [],
   "source": [
    "def VisualData(images,labels):\n",
    "    fig, ax = plt.subplots(nrows=2,ncols=5,sharex=True,sharey=True)#生成2行5列图标\n",
    "    ax = ax.flatten()#2行5列变成1整行\n",
    "    for i in range(10):\n",
    "        img = images[labels == i][0].reshape(28, 28)\n",
    "        ax[i].imshow(img, cmap='Greys', interpolation='nearest')\n",
    "    ax[0].set_xticks([])\n",
    "    ax[0].set_yticks([])\n",
    "    plt.tight_layout()\n",
    "    plt.show()"
   ]
  },
  {
   "cell_type": "code",
   "execution_count": 5,
   "metadata": {
    "colab": {
     "autoexec": {
      "startup": false,
      "wait_interval": 0
     }
    },
    "colab_type": "code",
    "id": "Bd-byF1Gu0SF"
   },
   "outputs": [],
   "source": [
    "\n",
    "train_images, train_labels,test_images,test_labels=load_mnist('train-labels','train-images','test-labels','test-images')\n",
    "# VisualData(test_images,test_labels)\n",
    "#归一化\n",
    "train_images=train_images.astype(np.float)\n",
    "train_images=(train_images-127)/255\n",
    "test_images=test_images.astype(np.float)\n",
    "test_images=(test_images-127)/255"
   ]
  },
  {
   "cell_type": "code",
   "execution_count": 6,
   "metadata": {
    "colab": {
     "autoexec": {
      "startup": false,
      "wait_interval": 0
     }
    },
    "colab_type": "code",
    "id": "BVLMxsP4D6Mf"
   },
   "outputs": [],
   "source": [
    "#下面是soft Max实现"
   ]
  },
  {
   "cell_type": "code",
   "execution_count": 7,
   "metadata": {
    "colab": {
     "autoexec": {
      "startup": false,
      "wait_interval": 0
     }
    },
    "colab_type": "code",
    "id": "_zi2ZhnQu2EO"
   },
   "outputs": [],
   "source": [
    "def training(images,labels):\n",
    "    labels=tf.one_hot(labels,10)#将label变成onehot向量\n",
    "    TrainImage = tf.placeholder(tf.float32, shape=[None, 784])\n",
    "    TrainLabel = tf.placeholder(tf.float32, shape=[None, 10])\n",
    "    W = tf.Variable(tf.zeros([784,10]))\n",
    "    b = tf.Variable(tf.zeros([10]))\n",
    "    hypothsis = tf.nn.softmax(tf.matmul(TrainImage,W) + b)#输出的每一行表示一个image,第i行第j列表示第i个iamge代表数字j的概率（概率及对数字j的预测值除以所有预测值的和）\n",
    "    hypothsis =hypothsis +1e-10\n",
    "    #hypothsis =tf.clip_by_value(hypothsis,1e-8,tf.reduce_max(hypothsis))#避免预测值有0的出现，这样log就会出现NaN\n",
    "    loss_cross_entropy = -tf.reduce_sum(TrainLabel*tf.log(hypothsis))\n",
    "    Optimizer=tf.train.GradientDescentOptimizer(learning_rate=1e-6).minimize(loss_cross_entropy) \n",
    "    sess=tf.Session()\n",
    "    sess.run(tf.initialize_all_variables())\n",
    "    StartTime=datetime.datetime.now()\n",
    "    for step in range(400000): \n",
    "        try:\n",
    "            BatchImage=images[(step*50)%60000:(step*50+50)%60000]\n",
    "            BatchLabel=labels.eval(session=sess)[(step*50)%60000:(step*50+50)%60000]\n",
    "            Weight,bias,loss,_=sess.run([W,b,loss_cross_entropy,Optimizer], feed_dict={TrainImage:BatchImage, TrainLabel:BatchLabel}) \n",
    "            if step%2000==0:\n",
    "                print(\"loss\",loss)\n",
    "        except KeyboardInterrupt:\n",
    "            print(\"stop\")\n",
    "            break\n",
    "    FinishTime=datetime.datetime.now()\n",
    "    print(\"Time Cost:\",(FinishTime-StartTime).total_seconds()/60, \"minutes\")\n",
    "    return Weight,bias"
   ]
  },
  {
   "cell_type": "code",
   "execution_count": 8,
   "metadata": {
    "colab": {
     "autoexec": {
      "startup": false,
      "wait_interval": 0
     }
    },
    "colab_type": "code",
    "id": "RA7vgIiJu3u8"
   },
   "outputs": [],
   "source": [
    "def TestAccurancy(Weight,bias,test_labels,test_images):\n",
    "  hypothsis=np.dot(test_images,Weight)+bias\n",
    "  prediction = np.equal(np.argmax(hypothsis, 1), test_labels)\n",
    "  accuracy = np.mean(prediction)\n",
    "  return accuracy"
   ]
  },
  {
   "cell_type": "code",
   "execution_count": 9,
   "metadata": {
    "colab": {
     "autoexec": {
      "startup": false,
      "wait_interval": 0
     },
     "base_uri": "https://localhost:8080/",
     "height": 3522
    },
    "colab_type": "code",
    "executionInfo": {
     "elapsed": 1022686,
     "status": "ok",
     "timestamp": 1523090851380,
     "user": {
      "displayName": "黯黯",
      "photoUrl": "https://lh3.googleusercontent.com/a/default-user=s128",
      "userId": "101565257455154257012"
     },
     "user_tz": -480
    },
    "id": "iX4489AObCkT",
    "outputId": "2248d581-1f76-4f51-c85a-fcab3e963eeb"
   },
   "outputs": [
    {
     "name": "stdout",
     "output_type": "stream",
     "text": [
      "WARNING:tensorflow:From /anaconda3/lib/python3.6/site-packages/tensorflow/python/util/tf_should_use.py:118: initialize_all_variables (from tensorflow.python.ops.variables) is deprecated and will be removed after 2017-03-02.\n",
      "Instructions for updating:\n",
      "Use `tf.global_variables_initializer` instead.\n",
      "loss 115.12927\n",
      "stop\n",
      "Time Cost: 0.0332803 minutes\n",
      "Accuracy:  0.3531\n"
     ]
    }
   ],
   "source": [
    "Weight,bias=training(train_images,train_labels)\n",
    "Accuracy=TestAccurancy(Weight,bias,test_labels,test_images)\n",
    "print(\"Accuracy: \",Accuracy)"
   ]
  },
  {
   "cell_type": "code",
   "execution_count": 10,
   "metadata": {
    "colab": {
     "autoexec": {
      "startup": false,
      "wait_interval": 0
     }
    },
    "colab_type": "code",
    "id": "_4dXUZ0nyWVl"
   },
   "outputs": [],
   "source": [
    "#下面是CNN实现"
   ]
  },
  {
   "cell_type": "code",
   "execution_count": 11,
   "metadata": {
    "colab": {
     "autoexec": {
      "startup": false,
      "wait_interval": 0
     }
    },
    "colab_type": "code",
    "id": "hIObN4wmCRsW"
   },
   "outputs": [],
   "source": [
    "def weight_variable(shape):\n",
    "  initial = tf.truncated_normal(shape, stddev=0.1)#tf.truncated_normal(shape, mean, stddev) 正态分布:shape表示生成张量的维度，mean是均值，stddev是标准差。\n",
    "  return tf.Variable(initial)\n",
    "def bias_variable(shape):\n",
    "  initial = tf.constant(0.1, shape=shape)\n",
    "  return tf.Variable(initial)\n",
    "def conv2d(x, W):\n",
    "    return tf.nn.conv2d(x, W, strides=[1, 1, 1, 1], padding='SAME')\n",
    "def max_pool_2x2(x):\n",
    "    return tf.nn.max_pool(x, ksize=[1, 2, 2, 1],strides=[1, 2, 2, 1], padding='SAME')"
   ]
  },
  {
   "cell_type": "code",
   "execution_count": 22,
   "metadata": {
    "colab": {
     "autoexec": {
      "startup": false,
      "wait_interval": 0
     }
    },
    "colab_type": "code",
    "id": "0tXA7kQeYB9o"
   },
   "outputs": [],
   "source": [
    "def TrainConv(train_images,train_labels,test_images,test_labels):\n",
    "    train_images=train_images.reshape(-1,28,28,1)\n",
    "    train_labels=tf.one_hot(train_labels,10)#将label变成onehot向量\n",
    "    test_images=test_images.reshape(-1,28,28,1)\n",
    "    test_labels=tf.one_hot(test_labels,10)#将label变成onehot向量\n",
    "    TrainImage = tf.placeholder(tf.float32, shape=[None, 28,28,1])\n",
    "    TrainLabel = tf.placeholder(tf.float32, shape=[None, 10]) \n",
    "    #convolutional layer\n",
    "    #第一层卷积\n",
    "    W_conv1 = weight_variable([5, 5, 1, 32])#5*5大小 一个通道 32个卷积核\n",
    "    b_conv1 = bias_variable([32])\n",
    "    #第二层卷积\n",
    "    W_conv2 = weight_variable([5, 5, 32, 64])#5*5大小 32个通道 64个卷积核 #第一层卷积得到32个feature map，可以看作32个通道；第二层是64个5*5的卷积核，每个卷积核有32个通道（每个卷积核都对输入的所有参数卷积）\n",
    "    b_conv2 = bias_variable([64])\n",
    "    #因为第二层有64个卷积核，所以对应64个bias\n",
    "    h_conv1 = tf.nn.relu(conv2d(TrainImage, W_conv1) + b_conv1)#(1, 28, 28, 32) #b_conv1为32，每个卷积核对应一个bias\n",
    "    h_pool1 = max_pool_2x2(h_conv1)#(1, 14, 14, 32)\n",
    "    h_conv2 = tf.nn.relu(conv2d(h_pool1, W_conv2) + b_conv2)\n",
    "    h_pool2 = max_pool_2x2(h_conv2)#(1, 7, 7, 64)\n",
    "    #image[-1,28,28,1]表示图片尺寸是28*28，第四个参数1表示单通道\n",
    "    #卷积核[5，5，1，32]表示卷积核尺寸是5*5，单通道，一共有32个卷积核\n",
    "    #32个卷积核对一张图片进行卷积，步长为1，padding='SAME'（卷积边缘点时自动用0补全边缘）。\n",
    "    #得到的结果是[1,28,28,32],表示每个feature map是28*28，一共32个feature map（因为有32个卷积核，每个卷积核卷积一整张图得到一个feature map）\n",
    "    #bias为32，也就是每个卷积核对应一个bias，每个卷积核可以理解为提取一个特定的特征，，每个特定的特征有一个bias\n",
    "    \n",
    "    #Dense connect layer\n",
    "    W_FullConect1=weight_variable([7 * 7 * 64, 1024])\n",
    "    b_FullConect1=bias_variable([1024])\n",
    "    W_FullConect2=weight_variable([1024, 10])\n",
    "    b_FullConect2=bias_variable([10])\n",
    "    h_pool2= tf.reshape(h_pool2,[-1,7 * 7 * 64])\n",
    "    FullConnectLayer1=tf.nn.relu(tf.matmul(h_pool2, W_FullConect1)+b_FullConect1)\n",
    "    keep_prob = tf.placeholder(\"float\")    #drop out\n",
    "    FullConnectLayer1Drop = tf.nn.dropout(FullConnectLayer1, keep_prob)#drop out\n",
    "    hypothesis=tf.nn.softmax(tf.matmul(FullConnectLayer1Drop, W_FullConect2) + b_FullConect2)\n",
    "    cross_entropy = -tf.reduce_sum(TrainLabel *tf.log(hypothesis))\n",
    "    Optimizer = tf.train.AdamOptimizer(1e-3).minimize(cross_entropy)\n",
    "    #预测正确率\n",
    "    correct_prediction = tf.equal(tf.argmax(hypothesis,1), tf.argmax(TrainLabel,1))\n",
    "    accuracy = tf.reduce_mean(tf.cast(correct_prediction, \"float\"))\n",
    "    \n",
    "\n",
    "    sess=tf.Session()\n",
    "    sess.run(tf.global_variables_initializer())\n",
    "    StartTime=datetime.datetime.now()\n",
    "    ce = []\n",
    "    for step in range(1000): \n",
    "        try:\n",
    "            BatchImage=train_images[(step*50)%60000:(step*50+50)%60000]\n",
    "            BatchLabel=train_labels.eval(session=sess)[(step*50)%60000:(step*50+50)%60000]\n",
    "            A,C,_=sess.run([accuracy,cross_entropy,Optimizer], feed_dict={TrainImage:BatchImage, TrainLabel:BatchLabel, keep_prob:0.9}) \n",
    "            ce.append(C)\n",
    "            if step%1000==0:\n",
    "                print(\"accuracy\",A)\n",
    "                print(\"loss\",C)\n",
    "        except KeyboardInterrupt:\n",
    "            print(\"stop\")\n",
    "            break\n",
    "    FinishTime=datetime.datetime.now()\n",
    "    print(\"Time Cost: \",(FinishTime-StartTime).total_seconds()/60,\"minutes\")\n",
    "    print(\"Accuracy: \",sess.run([accuracy], feed_dict={TrainImage:test_images, TrainLabel:test_labels.eval(session=sess), keep_prob:0.9}) )\n",
    "    return ce            "
   ]
  },
  {
   "cell_type": "code",
   "execution_count": 23,
   "metadata": {
    "colab": {
     "autoexec": {
      "startup": false,
      "wait_interval": 0
     },
     "base_uri": "https://localhost:8080/",
     "height": 1751
    },
    "colab_type": "code",
    "executionInfo": {
     "elapsed": 184023,
     "status": "ok",
     "timestamp": 1523091038118,
     "user": {
      "displayName": "黯黯",
      "photoUrl": "https://lh3.googleusercontent.com/a/default-user=s128",
      "userId": "101565257455154257012"
     },
     "user_tz": -480
    },
    "id": "ikbhZdBfu5KZ",
    "outputId": "3a59b9ef-07c1-4c4b-b7f3-fc607a51168e"
   },
   "outputs": [
    {
     "name": "stdout",
     "output_type": "stream",
     "text": [
      "accuracy 0.14\n",
      "loss 487.84305\n",
      "Time Cost:  1.5640866666666668 minutes\n",
      "Accuracy:  [0.9755]\n"
     ]
    },
    {
     "data": {
      "image/png": "[encoded data removed]",
      "text/plain": [
       "<matplotlib.figure.Figure at 0x18180068d0>"
      ]
     },
     "metadata": {},
     "output_type": "display_data"
    },
    {
     "data": {
      "text/plain": [
       "Text(0.5,1,'Loss')"
      ]
     },
     "execution_count": 23,
     "metadata": {},
     "output_type": "execute_result"
    },
    {
     "data": {
      "image/png": "[encoded data removed]",
      "text/plain": [
       "<matplotlib.figure.Figure at 0x18168d5f28>"
      ]
     },
     "metadata": {},
     "output_type": "display_data"
    }
   ],
   "source": [
    "y = TrainConv(train_images, train_labels,test_images,test_labels)\n",
    "x = range(1000)\n",
    "plt.figure()\n",
    "plt.plot(x,y)\n",
    "plt.show()"
   ]
  },
  {
   "cell_type": "code",
   "execution_count": null,
   "metadata": {
    "colab": {
     "autoexec": {
      "startup": false,
      "wait_interval": 0
     }
    },
    "colab_type": "code",
    "id": "YmoCWUIfu6IJ"
   },
   "outputs": [],
   "source": []
  }
 ],
 "metadata": {
  "accelerator": "GPU",
  "colab": {
   "collapsed_sections": [],
   "default_view": {},
   "name": "MNIST.ipynb",
   "provenance": [],
   "version": "0.3.2",
   "views": {}
  },
  "kernelspec": {
   "display_name": "Python 3",
   "language": "python",
   "name": "python3"
  },
  "language_info": {
   "codemirror_mode": {
    "name": "ipython",
    "version": 3
   },
   "file_extension": ".py",
   "mimetype": "text/x-python",
   "name": "python",
   "nbconvert_exporter": "python",
   "pygments_lexer": "ipython3",
   "version": "3.6.4"
  }
 },
 "nbformat": 4,
 "nbformat_minor": 1
}
